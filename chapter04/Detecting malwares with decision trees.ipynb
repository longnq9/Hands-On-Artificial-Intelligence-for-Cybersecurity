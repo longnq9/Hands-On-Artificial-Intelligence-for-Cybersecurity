{
 "cells": [
  {
   "cell_type": "code",
   "execution_count": 10,
   "id": "caroline-chemical",
   "metadata": {},
   "outputs": [],
   "source": [
    "import pandas as pd\n",
    "import numpy as np\n",
    "from sklearn import *\n",
    "\n",
    "from sklearn.metrics import accuracy_score\n",
    "\n",
    "#load data from file \n",
    "malware_ds = pd.read_csv('datasets/MalwareArtifacts.csv',delimiter = ',')\n",
    "\n",
    "#Extracting artifacts samples fields 0 -> 4 features\n",
    "samples = malware_ds.iloc[:,[0,1,2,3,4]].values\n",
    "targets = malware_ds.iloc[:, 8].values"
   ]
  },
  {
   "cell_type": "code",
   "execution_count": 11,
   "id": "gorgeous-assurance",
   "metadata": {},
   "outputs": [],
   "source": [
    "#separate tranning and testing data\n",
    "from sklearn.model_selection import train_test_split\n",
    "\n",
    "training_samples, testing_samples, training_targets, testing_targets = train_test_split(samples, targets, test_size = 0.2, random_state =0)\n"
   ]
  },
  {
   "cell_type": "code",
   "execution_count": 12,
   "id": "regulated-chase",
   "metadata": {},
   "outputs": [
    {
     "name": "stdout",
     "output_type": "stream",
     "text": [
      "Decision Tree accuracy: 97.95918367346938\n"
     ]
    }
   ],
   "source": [
    "#Decision Tree Classifier\n",
    "from sklearn import tree\n",
    "tree_classifier = tree.DecisionTreeClassifier()\n",
    "\n",
    "tree_classifier.fit(training_samples, training_targets)\n",
    "\n",
    "predictions = tree_classifier.predict(testing_samples)\n",
    "\n",
    "accuracy = 100.0 * accuracy_score(testing_targets, predictions)\n",
    "\n",
    "print(\"Decision Tree accuracy: \" + str(accuracy))"
   ]
  },
  {
   "cell_type": "code",
   "execution_count": 14,
   "id": "catholic-transcription",
   "metadata": {},
   "outputs": [
    {
     "name": "stdout",
     "output_type": "stream",
     "text": [
      "Random Forest Classifier accuracy: 98.0392156862745\n"
     ]
    }
   ],
   "source": [
    "#Random Forest Classifier\n",
    "\n",
    "rfc = ensemble.RandomForestClassifier(n_estimators = 50)\n",
    "rfc.fit(training_samples, training_targets)\n",
    "accuracy = 100.0 * rfc.score(testing_samples, testing_targets)\n",
    "\n",
    "print(\"Random Forest Classifier accuracy: \" + str(accuracy))"
   ]
  }
 ],
 "metadata": {
  "kernelspec": {
   "display_name": "Python 3",
   "language": "python",
   "name": "python3"
  },
  "language_info": {
   "codemirror_mode": {
    "name": "ipython",
    "version": 3
   },
   "file_extension": ".py",
   "mimetype": "text/x-python",
   "name": "python",
   "nbconvert_exporter": "python",
   "pygments_lexer": "ipython3",
   "version": "3.8.8"
  }
 },
 "nbformat": 4,
 "nbformat_minor": 5
}
