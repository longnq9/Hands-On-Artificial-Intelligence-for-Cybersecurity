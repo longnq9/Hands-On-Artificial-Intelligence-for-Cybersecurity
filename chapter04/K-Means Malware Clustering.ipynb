{
 "cells": [
  {
   "cell_type": "code",
   "execution_count": 26,
   "id": "romantic-illustration",
   "metadata": {},
   "outputs": [],
   "source": [
    "import numpy as np\n",
    "import pandas as pd\n",
    "import matplotlib.pyplot as plt\n",
    "\n",
    "from sklearn.cluster import KMeans\n",
    "from sklearn.metrics import silhouette_score\n",
    "\n",
    "#load data from file\n",
    "malware_ds = pd.read_csv('datasets/MalwareArtifacts.csv', delimiter=',')\n",
    "\n",
    "#extracting 4 artifacts first samples fields in dataset \n",
    "samples = malware_ds.iloc[:,[1,2,3,4]].values\n",
    "targets = malware_ds.iloc[:, 8].values"
   ]
  },
  {
   "cell_type": "code",
   "execution_count": 31,
   "id": "democratic-ecuador",
   "metadata": {},
   "outputs": [
    {
     "name": "stdout",
     "output_type": "stream",
     "text": [
      "K-means labels: [0 0 0 ... 0 1 0]\n",
      "\n",
      "K-means Clustering Results: \n",
      "\n",
      " Prediction      0      1\n",
      "Observed                \n",
      "0           83419  13107\n",
      "1            7995  32923\n",
      "\n",
      "Silhouette coefficient: 0.975\n"
     ]
    }
   ],
   "source": [
    "#identify k values with number of cluster = 2, number of iteration = 300\n",
    "k_means = KMeans(n_clusters = 2, max_iter = 300)\n",
    "k_means.fit(samples)\n",
    "\n",
    "print(\"K-means labels: \" + str(k_means.labels_))\n",
    "print(\"\\nK-means Clustering Results: \\n\\n\", pd.crosstab(targets,k_means.labels_,rownames = [\"Observed\"],colnames = [\"Prediction\"]))\n",
    "#use Silhouette coefficient to calculated metric using Eucliden distance\n",
    "print(\"\\nSilhouette coefficient: %0.3f\" %silhouette_score(samples, k_means.labels_,metric = 'euclidean'))\n"
   ]
  },
  {
   "cell_type": "code",
   "execution_count": null,
   "id": "stopped-trunk",
   "metadata": {},
   "outputs": [],
   "source": []
  }
 ],
 "metadata": {
  "kernelspec": {
   "display_name": "Python 3",
   "language": "python",
   "name": "python3"
  },
  "language_info": {
   "codemirror_mode": {
    "name": "ipython",
    "version": 3
   },
   "file_extension": ".py",
   "mimetype": "text/x-python",
   "name": "python",
   "nbconvert_exporter": "python",
   "pygments_lexer": "ipython3",
   "version": "3.8.8"
  }
 },
 "nbformat": 4,
 "nbformat_minor": 5
}
